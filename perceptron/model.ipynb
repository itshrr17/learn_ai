{
 "cells": [
  {
   "cell_type": "markdown",
   "metadata": {},
   "source": [
    "# Perceptron Model\n",
    "A perceptron is a binary classifier that predicts one of two classes (+1 or -1) using a linear decision boundary.\n",
    "\n",
    "y(x) = f(dot(w,x))\n",
    "\n",
    "#### Assumptions and Limitations\n",
    "\n",
    "Linear Separability:\n",
    "- The perceptron only converges if data is linearly separable.\n",
    "- If not, it will fail to find a solution.\n",
    "\n",
    "Binary Classification Only:\n",
    "- Can only distinguish between two classes (+1 or -1).\n",
    "\n",
    "Non-linearly Separable Data:\n",
    "- Fails for complex patterns (e.g., XOR problem).\n",
    "- Requires more advanced models like Multi-layer Perceptrons (MLPs).\n",
    "\n",
    "Key Characteristics\n",
    "- Fast and Simple: Works well for linearly separable data.\n",
    "- Incremental Updates: Stochastic Gradient Descent (updates weights for each example).\n",
    "- Decision Boundary: A straight line (or hyperplane) separating two classes.\n",
    "\n",
    "Usage:\n",
    "- Used as a basic model to understand machine learning concepts.\n",
    "- Rarely used in practice due to limitations; replaced by MLPs, logistic regression, and SVMs."
   ]
  },
  {
   "cell_type": "markdown",
   "metadata": {},
   "source": []
  },
  {
   "cell_type": "markdown",
   "metadata": {},
   "source": [
    "#### Implementation\n",
    "\n",
    "A binary classification model. It works when data is linearly separable.\n",
    "- have some data\n",
    "- have some random weights\n",
    "\n",
    "---\n",
    "- take one example from data,\n",
    "- take dot product of example with weights,\n",
    "- check if result is + or -,\n",
    "- if result and exmaple are both not + or -, (example is + and result is neg)\n",
    "- update weights (stochastic gradient descent) by simply moving to right direction,\n",
    "- if result it - and example is +, move to + direction, weight += example\n",
    "- else if result it + and example is -, move to - direction, weight -= example\n",
    "- repeat several times\n"
   ]
  },
  {
   "cell_type": "code",
   "execution_count": 35,
   "metadata": {},
   "outputs": [],
   "source": [
    "import numpy as np\n",
    "import random"
   ]
  },
  {
   "cell_type": "code",
   "execution_count": 43,
   "metadata": {},
   "outputs": [],
   "source": [
    "class PerceptronModel():\n",
    "  def __init__(self, features, rate, iterations):\n",
    "    self.features = features\n",
    "    self.rate = rate\n",
    "    self.iterations = iterations\n",
    "\n",
    "    self.weights = np.random.rand(self.features, 1) # random weights\n",
    "\n",
    "  def fit(self, pos_eg, neg_eg):\n",
    "    pos_count = pos_eg.shape[0]\n",
    "    neg_count = neg_eg.shape[0]\n",
    "    \n",
    "    for i in range(self.iterations):\n",
    "      pos = random.choice(pos_eg)\n",
    "      neg = random.choice(neg_eg)\n",
    "      \n",
    "      z = np.dot(pos, self.weights)\n",
    "\n",
    "      if z < 0: # pos example was classified as negative\n",
    "        self.weights = self.weights + pos.reshape(self.weights.shape) \n",
    "      \n",
    "      z = np.dot(neg, self.weights)\n",
    "      \n",
    "      if z >= 0: # neg example was classified as positive\n",
    "        self.weights = self.weights - neg.reshape(self.weights.shape)\n",
    "        \n",
    "      if i % 10 == 0:             \n",
    "          pos_out = np.dot(pos_eg, self.weights)\n",
    "          neg_out = np.dot(neg_eg, self.weights)        \n",
    "          pos_correct = (pos_out >= 0).sum() / float(pos_count)\n",
    "          neg_correct = (neg_out < 0).sum() / float(neg_count)\n",
    "          print(\"Iteration={}, pos correct={}, neg correct={}\".format(i,pos_correct* 100,neg_correct * 100))\n",
    "\n",
    "  def predict(self, features):\n",
    "    z = np.dot(features, self.weights)\n",
    "    return 1 if z > 0 else -1"
   ]
  },
  {
   "cell_type": "markdown",
   "metadata": {},
   "source": [
    "Let's create random dataset using sckit-learn library."
   ]
  },
  {
   "cell_type": "code",
   "execution_count": 33,
   "metadata": {},
   "outputs": [
    {
     "name": "stdout",
     "output_type": "stream",
     "text": [
      "[[ 0.29128978 -1.47185189]\n",
      " [-0.33424229 -1.2315863 ]\n",
      " [ 0.53976522  0.61704116]\n",
      " [-2.17734049  0.63308906]\n",
      " [ 0.64542576 -1.69781104]\n",
      " [ 0.47029174 -1.34473857]\n",
      " [ 0.27168448  0.68351146]\n",
      " [-1.74161396 -0.59592008]\n",
      " [-1.24632214 -1.11972833]\n",
      " [ 0.39025359 -1.12721237]\n",
      " [ 0.03088723  0.27364626]\n",
      " [-0.79680592  1.66878238]\n",
      " [-2.15659907 -0.45052786]\n",
      " [ 0.59804908  1.66983793]\n",
      " [ 0.76406452  0.82235476]\n",
      " [-0.88910156 -0.86514723]\n",
      " [-1.25653279 -0.10749963]\n",
      " [ 1.02182426 -0.52632802]\n",
      " [-1.11118806  0.98861641]\n",
      " [-0.16248687 -1.46230351]\n",
      " [ 1.52098542  1.31003651]\n",
      " [ 1.23608947 -0.06116893]\n",
      " [ 1.37045137 -1.14705528]\n",
      " [ 0.41248581 -0.61340396]\n",
      " [-0.35175888  0.53525739]\n",
      " [ 1.8598189   0.3156883 ]\n",
      " [ 0.62750854 -1.72401964]\n",
      " [-1.15356804  2.75803186]\n",
      " [ 1.08056788 -1.20176781]\n",
      " [-0.22781962  1.66513028]\n",
      " [ 1.14581502  0.10915033]\n",
      " [-1.6905848  -0.7273697 ]\n",
      " [ 0.56237409 -1.43587426]\n",
      " [ 0.9725982   0.50882084]\n",
      " [-3.26362431 -0.20804265]\n",
      " [-2.16936947 -0.44874057]\n",
      " [ 1.69583939  1.64828085]\n",
      " [-1.70654893  0.87273609]\n",
      " [ 1.39015133 -1.03366049]\n",
      " [-1.2182687   0.87364696]\n",
      " [ 0.25796595  0.46536486]\n",
      " [ 1.28890921 -1.57941282]\n",
      " [-1.87224354 -0.70322263]\n",
      " [-0.96585394 -1.22678571]\n",
      " [-0.56471758 -1.16740552]\n",
      " [-1.05213156  0.42482528]\n",
      " [ 1.38620572 -1.61755779]\n",
      " [-0.97010281  1.89113894]\n",
      " [-1.45322209 -0.3093548 ]\n",
      " [-1.42212154  2.43378169]\n",
      " [-2.34255434 -0.50933539]\n",
      " [-1.42753948  0.97072782]\n",
      " [-2.35454128 -0.4249946 ]\n",
      " [ 0.72926313 -0.87639022]\n",
      " [-1.75676247  1.20397142]\n",
      " [-2.09298883  0.59874598]\n",
      " [-0.13822123  0.18015076]\n",
      " [-1.91207805 -0.67763841]\n",
      " [ 0.88148136 -0.49301122]\n",
      " [-1.01169368  0.71025448]\n",
      " [ 0.01223506 -1.32151272]\n",
      " [-0.05088378 -1.3247111 ]\n",
      " [ 1.05425823  0.97678224]\n",
      " [ 2.35457871  1.92687727]\n",
      " [ 1.4243439   1.31806359]\n",
      " [ 1.01626351  1.02966935]\n",
      " [-1.80104938 -0.76841103]\n",
      " [ 1.61708952 -1.77081365]\n",
      " [ 1.41712179  0.90916618]\n",
      " [ 0.24133274 -0.72524302]\n",
      " [ 0.08563627 -0.99798942]\n",
      " [ 0.87217459  0.87725714]\n",
      " [ 0.67120812 -0.28641203]\n",
      " [ 0.45630586  0.59973475]\n",
      " [ 0.94114472  0.82041751]\n",
      " [ 0.34897399  0.73209182]\n",
      " [-1.03512476 -0.12913003]\n",
      " [ 1.19081126  1.07712114]\n",
      " [ 1.37411516 -0.65776081]\n",
      " [-0.7249377   1.57208146]\n",
      " [ 0.87619083 -1.72365917]\n",
      " [-0.30445305 -1.21800767]\n",
      " [-0.74011084  0.26928235]\n",
      " [ 1.16872738 -1.89288348]\n",
      " [-1.47986533 -0.86768701]\n",
      " [-0.87385514 -1.1455586 ]\n",
      " [ 2.32782141  2.07779432]\n",
      " [-0.60305519 -0.21104027]\n",
      " [ 1.21670941  1.00903184]\n",
      " [ 1.94084778  1.60161301]\n",
      " [-1.34589686 -0.81644159]\n",
      " [-1.45719964  0.81376873]\n",
      " [-2.26033936 -0.58342134]\n",
      " [ 0.71113291 -0.67745395]\n",
      " [ 2.72424467  2.22080761]\n",
      " [ 0.62392597 -0.45119744]\n",
      " [ 0.97837664 -0.22486716]\n",
      " [-1.07606765 -0.42399568]\n",
      " [ 0.599838    0.79057325]\n",
      " [ 1.35958056  1.35374444]] [-1 -1  1 -1 -1  1  1 -1 -1  1  1 -1 -1 -1  1 -1 -1  1 -1 -1  1  1  1  1\n",
      " -1  1 -1 -1  1 -1  1 -1 -1  1 -1 -1  1 -1  1 -1  1  1 -1 -1 -1 -1  1 -1\n",
      " -1 -1 -1 -1 -1  1 -1 -1  1 -1  1 -1 -1 -1  1  1  1  1 -1  1  1  1  1  1\n",
      "  1  1  1  1  1  1  1 -1  1 -1 -1  1 -1 -1  1 -1  1  1 -1 -1 -1  1  1  1\n",
      "  1 -1  1  1]\n"
     ]
    }
   ],
   "source": [
    "from sklearn.datasets import make_classification\n",
    "\n",
    "X, Y = make_classification(n_samples = 100, n_features=2,\n",
    "                           n_redundant=0, n_informative=2, flip_y=0)\n",
    "\n",
    "Y = Y*2-1 # convert 0 to -1\n",
    "\n",
    "print(X, Y)\n",
    "\n",
    "# set features type to float and label to int\n",
    "X = X.astype(np.float32); Y = Y.astype(np.int32)"
   ]
  },
  {
   "cell_type": "code",
   "execution_count": 34,
   "metadata": {},
   "outputs": [
    {
     "name": "stdout",
     "output_type": "stream",
     "text": [
      "Features: [[ 0.29128978 -1.471852  ]\n",
      " [-0.33424228 -1.2315863 ]\n",
      " [ 0.53976524  0.6170412 ]\n",
      " [-2.1773405   0.63308907]]\n",
      "Labels: [-1 -1  1 -1]\n"
     ]
    }
   ],
   "source": [
    "# Splitting the dataset into training and testing\n",
    "train_x, test_x = np.split(X, [100*7//10]) # 7:3 ratio training and testing\n",
    "train_y, test_y = np.split(Y, [100*7//10]) # 7:3 ratio training and testing\n",
    "\n",
    "print(\"Features:\", train_x[:4])\n",
    "print(\"Labels:\", train_y[:4])"
   ]
  },
  {
   "cell_type": "markdown",
   "metadata": {},
   "source": [
    "Let's visualize the dataset"
   ]
  },
  {
   "cell_type": "code",
   "execution_count": 36,
   "metadata": {},
   "outputs": [
    {
     "name": "stderr",
     "output_type": "stream",
     "text": [
      "/var/folders/tt/sm61w5f551qgbmfz15lw2dmh0000gn/T/ipykernel_78510/376533407.py:12: UserWarning: FigureCanvasAgg is non-interactive, and thus cannot be shown\n",
      "  fig.show()\n"
     ]
    },
    {
     "data": {
      "image/png": "[encoded data removed]",
      "text/plain": [
       "<Figure size 640x480 with 1 Axes>"
      ]
     },
     "metadata": {},
     "output_type": "display_data"
    }
   ],
   "source": [
    "import pylab\n",
    "\n",
    "def plot_dataset(suptitle, features, labels):\n",
    "    # prepare the plot\n",
    "    fig, ax = pylab.subplots(1, 1)\n",
    "    fig.suptitle(suptitle, fontsize = 16)\n",
    "    ax.set_xlabel('$x_i[0]$ -- (feature 1)')\n",
    "    ax.set_ylabel('$x_i[1]$ -- (feature 2)')\n",
    "\n",
    "    colors = ['r' if l>0 else 'b' for l in labels]\n",
    "    ax.scatter(features[:, 0], features[:, 1], marker='o', c=colors, s=100, alpha = 0.5)\n",
    "    fig.show()\n",
    "\n",
    "plot_dataset('Training data', train_x, train_y)"
   ]
  },
  {
   "cell_type": "markdown",
   "metadata": {},
   "source": [
    "Let's divide the examples, into pos and neg\n",
    "\n"
   ]
  },
  {
   "cell_type": "code",
   "execution_count": 53,
   "metadata": {},
   "outputs": [
    {
     "name": "stdout",
     "output_type": "stream",
     "text": [
      "[[ 0.53976524  0.6170412 ]\n",
      " [ 0.47029173 -1.3447386 ]\n",
      " [ 0.27168447  0.68351144]]\n"
     ]
    }
   ],
   "source": [
    "pos_examples = np.array([ [t[0], t[1]] for i,t in enumerate(train_x) \n",
    "                          if train_y[i]>0])\n",
    "neg_examples = np.array([ [t[0], t[1]] for i,t in enumerate(train_x) \n",
    "                          if train_y[i]<0])\n",
    "\n",
    "print(pos_examples[0:3])"
   ]
  },
  {
   "cell_type": "code",
   "execution_count": 54,
   "metadata": {},
   "outputs": [
    {
     "name": "stdout",
     "output_type": "stream",
     "text": [
      "Iteration=0, pos correct=86.66666666666667, neg correct=77.5\n",
      "Iteration=10, pos correct=86.66666666666667, neg correct=87.5\n",
      "Iteration=20, pos correct=90.0, neg correct=80.0\n",
      "Iteration=30, pos correct=93.33333333333333, neg correct=87.5\n",
      "Iteration=40, pos correct=96.66666666666667, neg correct=87.5\n",
      "Iteration=50, pos correct=96.66666666666667, neg correct=87.5\n",
      "Iteration=60, pos correct=86.66666666666667, neg correct=82.5\n",
      "Iteration=70, pos correct=86.66666666666667, neg correct=87.5\n",
      "Iteration=80, pos correct=76.66666666666667, neg correct=82.5\n",
      "Iteration=90, pos correct=96.66666666666667, neg correct=87.5\n",
      "Iteration=100, pos correct=96.66666666666667, neg correct=85.0\n",
      "Iteration=110, pos correct=93.33333333333333, neg correct=80.0\n",
      "Iteration=120, pos correct=96.66666666666667, neg correct=87.5\n",
      "Iteration=130, pos correct=96.66666666666667, neg correct=85.0\n",
      "Iteration=140, pos correct=96.66666666666667, neg correct=85.0\n",
      "Iteration=150, pos correct=96.66666666666667, neg correct=85.0\n",
      "Iteration=160, pos correct=93.33333333333333, neg correct=80.0\n",
      "Iteration=170, pos correct=96.66666666666667, neg correct=87.5\n",
      "Iteration=180, pos correct=96.66666666666667, neg correct=87.5\n",
      "Iteration=190, pos correct=96.66666666666667, neg correct=87.5\n",
      "Iteration=200, pos correct=96.66666666666667, neg correct=87.5\n",
      "Iteration=210, pos correct=93.33333333333333, neg correct=80.0\n",
      "Iteration=220, pos correct=86.66666666666667, neg correct=92.5\n",
      "Iteration=230, pos correct=86.66666666666667, neg correct=92.5\n",
      "Iteration=240, pos correct=90.0, neg correct=77.5\n",
      "Iteration=250, pos correct=93.33333333333333, neg correct=80.0\n",
      "Iteration=260, pos correct=96.66666666666667, neg correct=85.0\n",
      "Iteration=270, pos correct=96.66666666666667, neg correct=87.5\n",
      "Iteration=280, pos correct=86.66666666666667, neg correct=95.0\n",
      "Iteration=290, pos correct=86.66666666666667, neg correct=92.5\n",
      "Iteration=300, pos correct=86.66666666666667, neg correct=92.5\n",
      "Iteration=310, pos correct=83.33333333333334, neg correct=82.5\n",
      "Iteration=320, pos correct=80.0, neg correct=82.5\n",
      "Iteration=330, pos correct=96.66666666666667, neg correct=85.0\n",
      "Iteration=340, pos correct=93.33333333333333, neg correct=80.0\n",
      "Iteration=350, pos correct=86.66666666666667, neg correct=90.0\n",
      "Iteration=360, pos correct=86.66666666666667, neg correct=90.0\n",
      "Iteration=370, pos correct=70.0, neg correct=82.5\n",
      "Iteration=380, pos correct=96.66666666666667, neg correct=85.0\n",
      "Iteration=390, pos correct=96.66666666666667, neg correct=85.0\n",
      "Iteration=400, pos correct=93.33333333333333, neg correct=80.0\n",
      "Iteration=410, pos correct=86.66666666666667, neg correct=87.5\n",
      "Iteration=420, pos correct=86.66666666666667, neg correct=87.5\n",
      "Iteration=430, pos correct=96.66666666666667, neg correct=85.0\n",
      "Iteration=440, pos correct=96.66666666666667, neg correct=85.0\n",
      "Iteration=450, pos correct=70.0, neg correct=82.5\n",
      "Iteration=460, pos correct=70.0, neg correct=82.5\n",
      "Iteration=470, pos correct=70.0, neg correct=82.5\n",
      "Iteration=480, pos correct=86.66666666666667, neg correct=92.5\n",
      "Iteration=490, pos correct=96.66666666666667, neg correct=87.5\n",
      "Iteration=500, pos correct=96.66666666666667, neg correct=87.5\n",
      "Iteration=510, pos correct=86.66666666666667, neg correct=90.0\n",
      "Iteration=520, pos correct=96.66666666666667, neg correct=87.5\n",
      "Iteration=530, pos correct=96.66666666666667, neg correct=87.5\n",
      "Iteration=540, pos correct=96.66666666666667, neg correct=87.5\n",
      "Iteration=550, pos correct=96.66666666666667, neg correct=87.5\n",
      "Iteration=560, pos correct=96.66666666666667, neg correct=87.5\n",
      "Iteration=570, pos correct=96.66666666666667, neg correct=85.0\n",
      "Iteration=580, pos correct=96.66666666666667, neg correct=87.5\n",
      "Iteration=590, pos correct=96.66666666666667, neg correct=87.5\n",
      "Iteration=600, pos correct=93.33333333333333, neg correct=80.0\n",
      "Iteration=610, pos correct=96.66666666666667, neg correct=85.0\n",
      "Iteration=620, pos correct=86.66666666666667, neg correct=95.0\n",
      "Iteration=630, pos correct=86.66666666666667, neg correct=95.0\n",
      "Iteration=640, pos correct=96.66666666666667, neg correct=82.5\n",
      "Iteration=650, pos correct=86.66666666666667, neg correct=77.5\n",
      "Iteration=660, pos correct=93.33333333333333, neg correct=80.0\n",
      "Iteration=670, pos correct=93.33333333333333, neg correct=80.0\n",
      "Iteration=680, pos correct=96.66666666666667, neg correct=85.0\n",
      "Iteration=690, pos correct=96.66666666666667, neg correct=85.0\n",
      "Iteration=700, pos correct=96.66666666666667, neg correct=85.0\n",
      "Iteration=710, pos correct=86.66666666666667, neg correct=87.5\n",
      "Iteration=720, pos correct=83.33333333333334, neg correct=82.5\n",
      "Iteration=730, pos correct=93.33333333333333, neg correct=80.0\n",
      "Iteration=740, pos correct=96.66666666666667, neg correct=85.0\n",
      "Iteration=750, pos correct=96.66666666666667, neg correct=87.5\n",
      "Iteration=760, pos correct=96.66666666666667, neg correct=87.5\n",
      "Iteration=770, pos correct=86.66666666666667, neg correct=92.5\n",
      "Iteration=780, pos correct=96.66666666666667, neg correct=85.0\n",
      "Iteration=790, pos correct=96.66666666666667, neg correct=87.5\n",
      "Iteration=800, pos correct=86.66666666666667, neg correct=90.0\n",
      "Iteration=810, pos correct=90.0, neg correct=80.0\n",
      "Iteration=820, pos correct=96.66666666666667, neg correct=87.5\n",
      "Iteration=830, pos correct=96.66666666666667, neg correct=82.5\n",
      "Iteration=840, pos correct=96.66666666666667, neg correct=87.5\n",
      "Iteration=850, pos correct=96.66666666666667, neg correct=87.5\n",
      "Iteration=860, pos correct=93.33333333333333, neg correct=80.0\n",
      "Iteration=870, pos correct=93.33333333333333, neg correct=80.0\n",
      "Iteration=880, pos correct=96.66666666666667, neg correct=82.5\n",
      "Iteration=890, pos correct=86.66666666666667, neg correct=75.0\n",
      "Iteration=900, pos correct=90.0, neg correct=80.0\n",
      "Iteration=910, pos correct=86.66666666666667, neg correct=85.0\n",
      "Iteration=920, pos correct=86.66666666666667, neg correct=95.0\n",
      "Iteration=930, pos correct=96.66666666666667, neg correct=87.5\n",
      "Iteration=940, pos correct=96.66666666666667, neg correct=87.5\n",
      "Iteration=950, pos correct=96.66666666666667, neg correct=87.5\n",
      "Iteration=960, pos correct=96.66666666666667, neg correct=87.5\n",
      "Iteration=970, pos correct=96.66666666666667, neg correct=87.5\n",
      "Iteration=980, pos correct=96.66666666666667, neg correct=85.0\n",
      "Iteration=990, pos correct=93.33333333333333, neg correct=80.0\n"
     ]
    }
   ],
   "source": [
    "p = PerceptronModel(2, 0.1, 1000)\n",
    "p.fit(pos_examples, neg_examples)"
   ]
  },
  {
   "cell_type": "markdown",
   "metadata": {},
   "source": []
  },
  {
   "cell_type": "code",
   "execution_count": 63,
   "metadata": {},
   "outputs": [
    {
     "name": "stdout",
     "output_type": "stream",
     "text": [
      "total:  30\n",
      "correct:  28\n",
      "accuracy: 93.33333333333333 %\n"
     ]
    }
   ],
   "source": [
    "total = len(test_y)\n",
    "correct = 0\n",
    "\n",
    "for n in range(len(test_y)):\n",
    "  pr = p.predict(test_x[n])\n",
    "  if pr == test_y[n]:\n",
    "    correct += 1\n",
    "\n",
    "print(\"total: \", len(test_y))\n",
    "print(\"correct: \", correct)\n",
    "print(\"accuracy:\", correct / total * 100, \"%\")\n"
   ]
  },
  {
   "cell_type": "code",
   "execution_count": null,
   "metadata": {},
   "outputs": [],
   "source": []
  }
 ],
 "metadata": {
  "kernelspec": {
   "display_name": "base",
   "language": "python",
   "name": "python3"
  },
  "language_info": {
   "codemirror_mode": {
    "name": "ipython",
    "version": 3
   },
   "file_extension": ".py",
   "mimetype": "text/x-python",
   "name": "python",
   "nbconvert_exporter": "python",
   "pygments_lexer": "ipython3",
   "version": "3.12.2"
  }
 },
 "nbformat": 4,
 "nbformat_minor": 2
}
