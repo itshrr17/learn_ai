{
 "cells": [
  {
   "cell_type": "markdown",
   "metadata": {},
   "source": [
    "# Perceptron Model\n",
    "A binary classification model. It works when data is linearly separable.\n",
    "- have some data\n",
    "- have some random weights\n",
    "\n",
    "---\n",
    "- take one example from data,\n",
    "- take dot product of example with weights,\n",
    "- check if result is + or -,\n",
    "- if result and exmaple are both not + or -, (example is + and result is neg)\n",
    "- update weights (stochastic gradient descent) by simply moving to right direction,\n",
    "- if result it - and example is +, move to + direction, weight += example\n",
    "- else if result it + and example is -, move to - direction, weight -= example\n",
    "- repeat several times\n"
   ]
  },
  {
   "cell_type": "code",
   "execution_count": 27,
   "metadata": {},
   "outputs": [],
   "source": [
    "import pandas as pd\n",
    "import numpy as np\n",
    "import random"
   ]
  },
  {
   "cell_type": "code",
   "execution_count": 11,
   "metadata": {},
   "outputs": [],
   "source": [
    "class PerceptronModel():\n",
    "  def __init__(self, features, rate, iterations):\n",
    "    self.features = features\n",
    "    self.rate = rate\n",
    "    self.iterations = iterations\n",
    "\n",
    "    self.weights = np.random.rand(self.features, 1) # random weights\n",
    "\n",
    "  def fit(self, pos_eg, neg_eg):\n",
    "    pos_count = pos_eg.shape[0]\n",
    "    neg_count = neg_eg.shape[0]\n",
    "    \n",
    "    for i in range(self.iterations):\n",
    "      pos = random.choice(pos_eg)\n",
    "      neg = random.choice(neg_eg)\n",
    "      \n",
    "      z = np.dot(pos, self.weights)\n",
    "\n",
    "      if z < 0: # pos example was classified as negative\n",
    "        self.weights = self.weights + pos.reshape(self.weights.shape) \n",
    "      \n",
    "      z = np.dot(neg, self.weights)\n",
    "      \n",
    "      if z >= 0: # neg example was classified as positive\n",
    "        self.weights = self.weights - neg.reshape(self.weights.shape)\n",
    "        \n",
    "      if i % 10 == 0:             \n",
    "          pos_out = np.dot(pos_eg, self.weights)\n",
    "          neg_out = np.dot(neg_eg, self.weights)        \n",
    "          pos_correct = (pos_out >= 0).sum() / float(pos_count)\n",
    "          neg_correct = (neg_out < 0).sum() / float(neg_count)\n",
    "          print(\"Iteration={}, pos correct={}, neg correct={}\".format(i,pos_correct* 100,neg_correct * 100))"
   ]
  }
 ],
 "metadata": {
  "kernelspec": {
   "display_name": "base",
   "language": "python",
   "name": "python3"
  },
  "language_info": {
   "codemirror_mode": {
    "name": "ipython",
    "version": 3
   },
   "file_extension": ".py",
   "mimetype": "text/x-python",
   "name": "python",
   "nbconvert_exporter": "python",
   "pygments_lexer": "ipython3",
   "version": "3.12.2"
  }
 },
 "nbformat": 4,
 "nbformat_minor": 2
}
